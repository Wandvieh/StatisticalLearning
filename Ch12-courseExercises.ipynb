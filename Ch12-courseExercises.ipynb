{
 "cells": [
  {
   "cell_type": "code",
   "execution_count": 24,
   "metadata": {},
   "outputs": [],
   "source": [
    "import pandas as pd\n",
    "import pyreadr\n",
    "from sklearn.decomposition import PCA\n",
    "import statsmodels.api as sm\n",
    "from ISLP.models import ModelSpec as MS"
   ]
  },
  {
   "cell_type": "markdown",
   "metadata": {},
   "source": [
    "Suppose we want to fit a linear regression, but the number of variables is much larger than the number of observations. In some cases, we may improve the fit by reducing the dimension of the features before.\n",
    "\n",
    "In this problem, we use a data set with n = 300 and p = 200, so we have more observations than variables, but not by much. Load the data x, y, x.test, and y.test from 10.R.RData.\n",
    "\n",
    "First, concatenate x and x.test using the rbind functions and perform a principal components analysis on the concatenated data frame (use the \"scale=TRUE\" option). To within 10% relative error, what proportion of the variance is explained by the first five principal components?"
   ]
  },
  {
   "cell_type": "code",
   "execution_count": 22,
   "metadata": {},
   "outputs": [
    {
     "name": "stdout",
     "output_type": "stream",
     "text": [
      "X1     -0.020940\n",
      "X2      0.021487\n",
      "X3      0.031569\n",
      "X4     -0.002136\n",
      "X5     -0.031799\n",
      "          ...   \n",
      "X196    0.086268\n",
      "X197   -0.066197\n",
      "X198    0.076334\n",
      "X199    0.086150\n",
      "X200    0.016459\n",
      "Length: 200, dtype: float64\n",
      "0.38632566322686174\n"
     ]
    }
   ],
   "source": [
    "data = pyreadr.read_r('10.R.RData')\n",
    "X = data['x']\n",
    "y = data['y']\n",
    "X_test = data['x.test']\n",
    "y_test = data['y.test']\n",
    "\n",
    "X_concat = pd.concat([X, X_test], ignore_index=True, sort=False)\n",
    "print(X_concat.mean())\n",
    "\n",
    "pcaData = PCA()\n",
    "pcaData.fit(X_concat)\n",
    "scores = pcaData.transform(X_concat)\n",
    "\n",
    "print(pcaData.explained_variance_ratio_[:5].sum())"
   ]
  },
  {
   "cell_type": "markdown",
   "metadata": {},
   "source": [
    "Now, try an OLS linear regression of y on the matrix x. What is the mean squared predition error if we use the fitted model to predict y.test from x.test?"
   ]
  },
  {
   "cell_type": "code",
   "execution_count": null,
   "metadata": {},
   "outputs": [],
   "source": [
    "X_OLS = MS(X.columns).fit_transform(X)\n",
    "model = sm.OLS(y, X)\n",
    "results = model.fit()\n",
    "model.predict()"
   ]
  }
 ],
 "metadata": {
  "kernelspec": {
   "display_name": "Python 3",
   "language": "python",
   "name": "python3"
  },
  "language_info": {
   "codemirror_mode": {
    "name": "ipython",
    "version": 3
   },
   "file_extension": ".py",
   "mimetype": "text/x-python",
   "name": "python",
   "nbconvert_exporter": "python",
   "pygments_lexer": "ipython3",
   "version": "3.11.5"
  }
 },
 "nbformat": 4,
 "nbformat_minor": 2
}
