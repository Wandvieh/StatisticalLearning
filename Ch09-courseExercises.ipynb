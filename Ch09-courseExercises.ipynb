{
 "cells": [
  {
   "cell_type": "code",
   "execution_count": 33,
   "metadata": {},
   "outputs": [],
   "source": [
    "import numpy as np\n",
    "\n",
    "from sklearn.svm import SVC\n",
    "from sklearn.metrics import accuracy_score\n",
    "from sklearn.discriminant_analysis import LinearDiscriminantAnalysis as LDA\n",
    "\n",
    "rng = np.random.default_rng(1)"
   ]
  },
  {
   "cell_type": "markdown",
   "metadata": {},
   "source": [
    "In this problem, you will use simulation to evaluate the expected misclassification error rate given a particular generating model.\n",
    "\n",
    "The data:\n",
    "- X is ten-dimensional, normally distributed\n",
    "- y has classes 0 and 1, equally distributed"
   ]
  },
  {
   "cell_type": "code",
   "execution_count": 30,
   "metadata": {},
   "outputs": [
    {
     "name": "stdout",
     "output_type": "stream",
     "text": [
      "0.21719499999999983\n"
     ]
    }
   ],
   "source": [
    "# generating the training data\n",
    "def generate_ordered_data(nrSamples):\n",
    "    '''\n",
    "    Returns 10-dimensional data and their respective classes (0 or 1)\n",
    "    '''\n",
    "    cov = [[1, 0, 0, 0, 0, 0, 0, 0, 0, 0],\n",
    "           [0, 1, 0, 0, 0, 0, 0, 0, 0, 0],\n",
    "           [0, 0, 1, 0, 0, 0, 0, 0, 0, 0],\n",
    "           [0, 0, 0, 1, 0, 0, 0, 0, 0, 0],\n",
    "           [0, 0, 0, 0, 1, 0, 0, 0, 0, 0],\n",
    "           [0, 0, 0, 0, 0, 1, 0, 0, 0, 0],\n",
    "           [0, 0, 0, 0, 0, 0, 1, 0, 0, 0],\n",
    "           [0, 0, 0, 0, 0, 0, 0, 1, 0, 0],\n",
    "           [0, 0, 0, 0, 0, 0, 0, 0, 1, 0],\n",
    "           [0, 0, 0, 0, 0, 0, 0, 0, 0, 1]]\n",
    "    X_0 = rng.multivariate_normal([0]*10, cov, nrSamples)\n",
    "    X_1 = rng.multivariate_normal(np.array([1]*5+[0]*5), cov, nrSamples)\n",
    "    X = np.concatenate((X_0, X_1), axis=0)\n",
    "    y = np.array([0]*nrSamples+[1]*nrSamples)\n",
    "    return X, y\n",
    "\n",
    "# generate the training data\n",
    "training_X, training_y = generate_ordered_data(50)\n",
    "# fit the model\n",
    "svm = SVC(C=10)\n",
    "svm.fit(training_X, training_y)\n",
    "\n",
    "error_rates = []\n",
    "for i in range(0,500):\n",
    "    # now fit the model on a large test set\n",
    "    test_X, test_y = generate_ordered_data(1000)\n",
    "    pred_test_y = svm.predict(test_X)\n",
    "\n",
    "    # get error rate\n",
    "    error_rate = 1 - accuracy_score(test_y, pred_test_y)\n",
    "    error_rates.append(error_rate)\n",
    "print(sum(error_rates) / len(error_rates))"
   ]
  },
  {
   "cell_type": "markdown",
   "metadata": {},
   "source": [
    "Now the same with a linear kernel"
   ]
  },
  {
   "cell_type": "code",
   "execution_count": 32,
   "metadata": {},
   "outputs": [
    {
     "name": "stdout",
     "output_type": "stream",
     "text": [
      "0.15674900000000003\n"
     ]
    }
   ],
   "source": [
    "svm_linear = SVC(C=10, kernel='linear')\n",
    "svm_linear.fit(training_X, training_y)\n",
    "\n",
    "error_rates = []\n",
    "for i in range(0,500):\n",
    "    # now fit the model on a large test set\n",
    "    test_X, test_y = generate_ordered_data(1000)\n",
    "    pred_test_y = svm_linear.predict(test_X)\n",
    "\n",
    "    # get error rate\n",
    "    error_rate = 1 - accuracy_score(test_y, pred_test_y)\n",
    "    error_rates.append(error_rate)\n",
    "print(sum(error_rates) / len(error_rates))"
   ]
  },
  {
   "cell_type": "markdown",
   "metadata": {},
   "source": [
    "And for LDA"
   ]
  },
  {
   "cell_type": "code",
   "execution_count": 34,
   "metadata": {},
   "outputs": [
    {
     "name": "stdout",
     "output_type": "stream",
     "text": [
      "0.15401700000000013\n"
     ]
    }
   ],
   "source": [
    "lda = LDA()\n",
    "lda.fit(training_X, training_y)\n",
    "\n",
    "error_rates = []\n",
    "for i in range(0,500):\n",
    "    test_X, test_y = generate_ordered_data(1000)\n",
    "    pred_test_y = lda.predict(test_X)\n",
    "\n",
    "    # get error rate\n",
    "    error_rate = 1 - accuracy_score(test_y, pred_test_y)\n",
    "    error_rates.append(error_rate)\n",
    "print(sum(error_rates) / len(error_rates))"
   ]
  }
 ],
 "metadata": {
  "kernelspec": {
   "display_name": "Python 3",
   "language": "python",
   "name": "python3"
  },
  "language_info": {
   "codemirror_mode": {
    "name": "ipython",
    "version": 3
   },
   "file_extension": ".py",
   "mimetype": "text/x-python",
   "name": "python",
   "nbconvert_exporter": "python",
   "pygments_lexer": "ipython3",
   "version": "3.11.5"
  }
 },
 "nbformat": 4,
 "nbformat_minor": 2
}
