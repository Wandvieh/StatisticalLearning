{
 "cells": [
  {
   "cell_type": "code",
   "execution_count": 1,
   "metadata": {},
   "outputs": [],
   "source": [
    "import numpy as np\n",
    "import pandas as pd\n",
    "from matplotlib.pyplot import subplots\n",
    "from statsmodels.api import OLS\n",
    "import sklearn.model_selection as skm\n",
    "import sklearn.linear_model as skl\n",
    "from sklearn.preprocessing import StandardScaler\n",
    "from ISLP import load_data\n",
    "from ISLP.models import ModelSpec as MS\n",
    "from functools import partial\n",
    "from sklearn.pipeline import Pipeline\n",
    "from sklearn.decomposition import PCA\n",
    "from sklearn.cross_decomposition import PLSRegression\n",
    "from ISLP.models import \\\n",
    "     (Stepwise,\n",
    "      sklearn_selected,\n",
    "      sklearn_selection_path)\n",
    "from l0bnb import fit_path"
   ]
  },
  {
   "cell_type": "code",
   "execution_count": 14,
   "metadata": {},
   "outputs": [
    {
     "name": "stdout",
     "output_type": "stream",
     "text": [
      "59\n",
      "(263, 20)\n",
      "AtBat           int64\n",
      "Hits            int64\n",
      "HmRun           int64\n",
      "Runs            int64\n",
      "RBI             int64\n",
      "Walks           int64\n",
      "Years           int64\n",
      "CAtBat          int64\n",
      "CHits           int64\n",
      "CHmRun          int64\n",
      "CRuns           int64\n",
      "CRBI            int64\n",
      "CWalks          int64\n",
      "League       category\n",
      "Division     category\n",
      "PutOuts         int64\n",
      "Assists         int64\n",
      "Errors          int64\n",
      "Salary        float64\n",
      "NewLeague    category\n",
      "dtype: object\n"
     ]
    }
   ],
   "source": [
    "Hitters = load_data('Hitters')\n",
    "print(np.isnan(Hitters['Salary']).sum())\n",
    "Hitters = Hitters.dropna()\n",
    "print(Hitters.shape)\n",
    "print(Hitters.dtypes)"
   ]
  },
  {
   "cell_type": "markdown",
   "metadata": {},
   "source": [
    "sklearnd doesn't have Cp (as I correctly saw in the titanic dataset feature selection), so here's a function to compute it by oneself."
   ]
  },
  {
   "cell_type": "code",
   "execution_count": 8,
   "metadata": {},
   "outputs": [],
   "source": [
    "def nCp(sigma2:float,     # variance\n",
    "        estimator,\n",
    "        X:pd.DataFrame,   # all data without the response\n",
    "        Y:pd.Series) -> float:\n",
    "    'Negative Cp statistic'\n",
    "    n, p = X.shape\n",
    "    Yhat = estimator.predict(X)\n",
    "    RSS = np.sum((Y - Yhat)**2)\n",
    "    return -(RSS + 2 * p * sigma2) / n"
   ]
  },
  {
   "cell_type": "markdown",
   "metadata": {},
   "source": [
    "Estimating sigma2 (the variance) using the biggest model (= has the highest variance)"
   ]
  },
  {
   "cell_type": "code",
   "execution_count": 9,
   "metadata": {},
   "outputs": [],
   "source": [
    "design = MS(Hitters.columns.drop('Salary')).fit(Hitters)\n",
    "Y = np.array(Hitters['Salary'])\n",
    "X = design.transform(Hitters)\n",
    "sigma2 = OLS(Y,X).fit().scale"
   ]
  },
  {
   "cell_type": "markdown",
   "metadata": {},
   "source": [
    "We want to use sigma2 as a const in the function nCp, so we freeze the function with that. This is then our \"scorer\", although I don't quite know what that means."
   ]
  },
  {
   "cell_type": "code",
   "execution_count": 10,
   "metadata": {},
   "outputs": [],
   "source": [
    "neg_Cp = partial(nCp, sigma2)"
   ]
  },
  {
   "cell_type": "markdown",
   "metadata": {},
   "source": [
    "Apart from the scorer, we need a Search strategy. From the book Lab: The method `Stepwise.first_peak()` runs forward stepwise until any further additions to the model do not result in an improvement in the evaluation score. Similarly, the method `Stepwise.fixed_steps()` runs a fixed number of steps of stepwise search."
   ]
  },
  {
   "cell_type": "code",
   "execution_count": 15,
   "metadata": {},
   "outputs": [],
   "source": [
    "strategy = Stepwise.first_peak(design,                      # our model (with the intercept)\n",
    "                               direction='forward',         # forward, backward or both\n",
    "                               max_terms=len(design.terms)) # number of predictors"
   ]
  },
  {
   "cell_type": "markdown",
   "metadata": {},
   "source": [
    "Now to implement forward selection. This is done with the function sklearn_selected() from the ISLP package. It takes a model from statsmodels and a search strategy, and then you can compute by using its fit() method."
   ]
  },
  {
   "cell_type": "code",
   "execution_count": null,
   "metadata": {},
   "outputs": [
    {
     "name": "stdout",
     "output_type": "stream",
     "text": [
      "('Assists', 'AtBat', 'CAtBat', 'CHits', 'CHmRun', 'CRBI', 'CRuns', 'CWalks', 'Division', 'Errors', 'Hits', 'HmRun', 'League', 'NewLeague', 'PutOuts', 'RBI', 'Runs', 'Walks', 'Years')\n",
      "19\n",
      "['__class__', '__delattr__', '__dict__', '__dir__', '__doc__', '__eq__', '__format__', '__ge__', '__getattribute__', '__getstate__', '__gt__', '__hash__', '__init__', '__init_subclass__', '__le__', '__lt__', '__module__', '__ne__', '__new__', '__reduce__', '__reduce_ex__', '__repr__', '__setattr__', '__setstate__', '__sizeof__', '__sklearn_clone__', '__str__', '__subclasshook__', '__weakref__', '_build_request_for_signature', '_check_feature_names', '_check_n_features', '_estimator_type', '_get_default_requests', '_get_metadata_request', '_get_param_names', '_get_tags', '_more_tags', '_repr_html_', '_repr_html_inner', '_repr_mimebundle_', '_validate_data', '_validate_params', 'cv', 'fit', 'get_metadata_routing', 'get_params', 'model_', 'model_args', 'model_type', 'predict', 'results_', 'score', 'scoring', 'selected_state_', 'selector_', 'set_params', 'set_score_request', 'sm_', 'strategy']\n",
      "<class 'ISLP.models.sklearn_wrap.sklearn_selected'>\n",
      "<class 'ISLP.models.sklearn_wrap.sklearn_selected'>\n"
     ]
    }
   ],
   "source": [
    "hitters_MSE = sklearn_selected(OLS, strategy)\n",
    "hitters_MSE.fit(Hitters, # the response column is still in the dataset!\n",
    "                Y)\n",
    "print(hitters_MSE.selected_state_)\n",
    "print(len(hitters_MSE.selected_state_))\n",
    "print(dir(hitters_MSE))\n",
    "print(hitters_MSE.__class__)\n",
    "print(type(hitters_MSE)) # its the same as the line before"
   ]
  },
  {
   "cell_type": "markdown",
   "metadata": {},
   "source": [
    "Now to use neg_Cp as the scoring argument for sklearn_selected(), so it doesn't use the MSE (and thus doesn't use the MSE which always results in the largest model)"
   ]
  },
  {
   "cell_type": "code",
   "execution_count": 21,
   "metadata": {},
   "outputs": [
    {
     "name": "stdout",
     "output_type": "stream",
     "text": [
      "('Assists', 'AtBat', 'CAtBat', 'CRBI', 'CRuns', 'CWalks', 'Division', 'Hits', 'PutOuts', 'Walks')\n",
      "10\n"
     ]
    }
   ],
   "source": [
    "hitters_Cp = sklearn_selected(OLS,\n",
    "                              strategy,\n",
    "                              scoring=neg_Cp)\n",
    "hitters_Cp.fit(Hitters, Y)\n",
    "print(hitters_Cp.selected_state_)\n",
    "print(len(hitters_Cp.selected_state_))"
   ]
  },
  {
   "cell_type": "markdown",
   "metadata": {},
   "source": [
    "# Using CV and Validation Set Approach for choosing a model\n",
    "\n",
    "Now we use fixed_steps instead of first_peak. I don't know exactly what the difference is, but I think when using MSE as training error for first_peak, it's the same as the fixed_steps for the length of the variables, since it will always add another variable, because the MSE will always be lower."
   ]
  }
 ],
 "metadata": {
  "kernelspec": {
   "display_name": "Python 3",
   "language": "python",
   "name": "python3"
  },
  "language_info": {
   "codemirror_mode": {
    "name": "ipython",
    "version": 3
   },
   "file_extension": ".py",
   "mimetype": "text/x-python",
   "name": "python",
   "nbconvert_exporter": "python",
   "pygments_lexer": "ipython3",
   "version": "3.11.5"
  }
 },
 "nbformat": 4,
 "nbformat_minor": 2
}
